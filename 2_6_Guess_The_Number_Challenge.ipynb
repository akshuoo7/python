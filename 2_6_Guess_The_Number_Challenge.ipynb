{
  "nbformat": 4,
  "nbformat_minor": 0,
  "metadata": {
    "colab": {
      "name": "2.6_Guess_The_Number_Challenge.ipynb",
      "provenance": [],
      "collapsed_sections": [],
      "include_colab_link": true
    },
    "kernelspec": {
      "name": "python3",
      "display_name": "Python 3"
    },
    "language_info": {
      "name": "python"
    }
  },
  "cells": [
    {
      "cell_type": "markdown",
      "metadata": {
        "id": "view-in-github",
        "colab_type": "text"
      },
      "source": [
        "<a href=\"https://colab.research.google.com/github/akshuoo7/python/blob/master/2_6_Guess_The_Number_Challenge.ipynb\" target=\"_parent\"><img src=\"https://colab.research.google.com/assets/colab-badge.svg\" alt=\"Open In Colab\"/></a>"
      ]
    },
    {
      "cell_type": "markdown",
      "metadata": {
        "id": "E1BtiRZFTl8b"
      },
      "source": [
        "#Number Guessing Game\n",
        "\n",
        "In this notebook you are challenged to use your knowledge of loops, conditionals, input, random numbers, and printing to create a number guessing game. \n",
        "\n",
        "In this challenge, you'll be making a guess the number game. Your program will generate a random number and then ask the user to guess what it is. \n",
        "\n",
        "When they guess wrong, your program will tell them if they are too high or too low.\n",
        "\n",
        "###Core Freatures Breakdown\n",
        "- Generate a random number between 1 and 100.\n",
        "\n",
        "- Let the user guess what the number is until they get it right.\n",
        "\n",
        "- Give the user feedback after each guess- tell them if their guess is too high, too low, or just right.\n",
        "\n",
        "- Begin the game again.\n"
      ]
    },
    {
      "cell_type": "code",
      "metadata": {
        "id": "-j0-ot-5TlKw",
        "outputId": "50cdf7d9-5bb1-4339-eee2-7b484bf283df",
        "colab": {
          "base_uri": "https://localhost:8080/"
        }
      },
      "source": [
        "import random\n",
        "# Add your code here: \n",
        "def random_number():\n",
        "    rand = random.randrange(1,100)\n",
        "    return rand\n",
        "the_num = random_number()\n",
        "for x in range(0, 7):\n",
        "  a_num = int(input('Guess a number between 1 & 100:\\t'))\n",
        "  if (a_num == the_num):\n",
        "    print('Yea You Got It Just Right!')\n",
        "    break\n",
        "  elif (a_num > the_num):\n",
        "    print(\"Noo, It's too high!\")\n",
        "  elif (a_num < the_num):\n",
        "      print(\"Noo, It's too low!\")\n",
        "if (a_num == the_num):\n",
        "  print(\"!!!Congratulations!!!\")\n",
        "else:\n",
        "  print(\"Sorry you only had 7 tries!\")"
      ],
      "execution_count": 20,
      "outputs": [
        {
          "output_type": "stream",
          "name": "stdout",
          "text": [
            "Guess a number between 1 & 100:\t50\n",
            "Noo, It's too low!\n",
            "Guess a number between 1 & 100:\t50\n",
            "Noo, It's too low!\n",
            "Guess a number between 1 & 100:\t75\n",
            "Noo, It's too low!\n",
            "Guess a number between 1 & 100:\t75\n",
            "Noo, It's too low!\n",
            "Guess a number between 1 & 100:\t90\n",
            "Noo, It's too high!\n",
            "Guess a number between 1 & 100:\t80\n",
            "Noo, It's too low!\n",
            "Guess a number between 1 & 100:\t60\n",
            "Noo, It's too low!\n",
            "Sorry you only had 7 tries!\n"
          ]
        }
      ]
    },
    {
      "cell_type": "markdown",
      "metadata": {
        "id": "ogeubfG_UYxb"
      },
      "source": [
        "###Bonus Features\n",
        "\n",
        "- Create a variable to keep track of the number of gueses\n",
        "\n",
        "- Add another loop so that the game can be played a set number of times\n",
        "\n",
        "- Save all the number of guesses to a list, and tell the user what the best score is.\n",
        "\n",
        "- Add a second death number that the user is trying to avoid, and if the user guesses that number the game is over. \n",
        "\n",
        "- Add a function for code that you re-use often, like getting user input or generating the random number\n"
      ]
    }
  ]
}